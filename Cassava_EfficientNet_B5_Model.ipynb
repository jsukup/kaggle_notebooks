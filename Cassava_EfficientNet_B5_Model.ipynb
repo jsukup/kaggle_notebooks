{
  "nbformat": 4,
  "nbformat_minor": 0,
  "metadata": {
    "kernelspec": {
      "name": "python3",
      "display_name": "Python 3",
      "language": "python"
    },
    "language_info": {
      "name": "python",
      "version": "3.7.6",
      "mimetype": "text/x-python",
      "codemirror_mode": {
        "name": "ipython",
        "version": 3
      },
      "pygments_lexer": "ipython3",
      "nbconvert_exporter": "python",
      "file_extension": ".py"
    },
    "colab": {
      "name": "Cassava - EfficientNet B5 Model.ipynb",
      "provenance": [],
      "collapsed_sections": [],
      "include_colab_link": true
    },
    "accelerator": "TPU"
  },
  "cells": [
    {
      "cell_type": "markdown",
      "metadata": {
        "id": "view-in-github",
        "colab_type": "text"
      },
      "source": [
        "<a href=\"https://colab.research.google.com/github/jsukup/kaggle_notebooks/blob/main/Cassava_EfficientNet_B5_Model.ipynb\" target=\"_parent\"><img src=\"https://colab.research.google.com/assets/colab-badge.svg\" alt=\"Open In Colab\"/></a>"
      ]
    },
    {
      "cell_type": "code",
      "metadata": {
        "trusted": true,
        "id": "pjbahxGdm_QC"
      },
      "source": [
        "#Imports\n",
        "import os\n",
        "import re\n",
        "import json\n",
        "import numpy as np\n",
        "import pandas as pd\n",
        "import tensorflow as tf\n",
        "import tensorflow_hub as hub\n",
        "import matplotlib.pyplot as plt\n",
        "\n",
        "from functools import partial\n",
        "from sklearn.utils import class_weight\n",
        "from sklearn.model_selection import train_test_split\n",
        "#from kaggle_datasets import KaggleDatasets\n",
        "from tensorflow.keras.optimizers.schedules import ExponentialDecay\n",
        "from tensorflow.keras.callbacks import EarlyStopping, TensorBoard"
      ],
      "execution_count": null,
      "outputs": []
    },
    {
      "cell_type": "code",
      "metadata": {
        "trusted": true,
        "id": "5FevVYaum_QK"
      },
      "source": [
        "#Set TPU Strategy\n",
        "try:\n",
        "    tpu = tf.distribute.cluster_resolver.TPUClusterResolver()\n",
        "    print(\"Device:\", tpu.master())\n",
        "    tf.config.experimental_connect_to_cluster(tpu)\n",
        "    tf.tpu.experimental.initialize_tpu_system(tpu)\n",
        "    strategy = tf.distribute.experimental.TPUStrategy(tpu)\n",
        "except:\n",
        "    strategy = tf.distribute.get_strategy()\n",
        "    \n",
        "print(\"Number of replicas:\", strategy.num_replicas_in_sync)"
      ],
      "execution_count": null,
      "outputs": []
    },
    {
      "cell_type": "code",
      "metadata": {
        "trusted": true,
        "id": "zlFGK-V3m_QL"
      },
      "source": [
        "# Load data from Kaggle Notebook storage\n",
        "# raw_storage = '../input/cassava-leaf-disease-classification'\n",
        "\n",
        "# with open(os.path.join(raw_storage, 'label_num_to_disease_map.json')) as f:\n",
        "#     datastore = json.load(f)\n",
        "    \n",
        "# datastore = {int(k): str(v) for k, v in datastore.items()}\n",
        "        \n",
        "# raw_labels = pd.read_csv(os.path.join(raw_storage, 'train.csv'), ) \n",
        "# raw_labels['label'].replace(datastore, inplace=True)"
      ],
      "execution_count": null,
      "outputs": []
    },
    {
      "cell_type": "code",
      "metadata": {
        "trusted": true,
        "id": "8e4FH81fm_QL"
      },
      "source": [
        "# Calculate class weights\n",
        "# calc_weights = class_weight.compute_class_weight('balanced',\n",
        "#                                                   np.unique(raw_labels['label']),\n",
        "#                                                   raw_labels['label'])\n",
        "\n",
        "# class_weights = {i : calc_weights[i] for i in range(len(calc_weights))}"
      ],
      "execution_count": null,
      "outputs": []
    },
    {
      "cell_type": "code",
      "metadata": {
        "trusted": true,
        "id": "6NT-BN_Km_QM"
      },
      "source": [
        "#HYPERPARAMETERS\n",
        "BATCH_SIZE = 16 * strategy.num_replicas_in_sync\n",
        "IMG_SIZE = [456, 456]\n",
        "EPOCHS = 300\n",
        "LEARNING_RATE = 1e-2\n",
        "GCP_DATASET = 'gs://kds-0ec1dec9f628bce2bc810157442805632bd221934a9e1921da420af8'\n",
        "RANDOM_SEED = 734\n",
        "MODEL_HUB_URL = 'https://tfhub.dev/tensorflow/efficientnet/b5/feature-vector/1'\n",
        "AUTOTUNE = tf.data.experimental.AUTOTUNE\n",
        "CLASS_WEIGHTS = {0: 3.9368905243790246,\n",
        "                1: 1.954956601187757,\n",
        "                2: 1.7935456831517183,\n",
        "                3: 0.3252317981456148,\n",
        "                4: 1.6606131160263873}"
      ],
      "execution_count": null,
      "outputs": []
    },
    {
      "cell_type": "code",
      "metadata": {
        "trusted": true,
        "id": "1Zmq3g6im_QM"
      },
      "source": [
        "# Read/load tfrecords\n",
        "def decode_image(image):\n",
        "    image = tf.image.decode_jpeg(image, channels=3)\n",
        "    image = tf.cast(image, tf.float32) / 255.0\n",
        "    image = tf.image.resize(image, IMG_SIZE, preserve_aspect_ratio=True)\n",
        "    image = tf.reshape(image, [*IMG_SIZE, 3])\n",
        "    image = tf.image.random_flip_left_right(image)\n",
        "    image = tf.image.random_flip_up_down(image)\n",
        "    return image\n",
        "\n",
        "def read_tfrecord(example, labeled):\n",
        "    tfrecord_format = (\n",
        "        {\n",
        "            \"image\": tf.io.FixedLenFeature([], tf.string),\n",
        "            \"target\": tf.io.FixedLenFeature([], tf.int64),\n",
        "        }\n",
        "        if labeled else \n",
        "        {\n",
        "            \"image\": tf.io.FixedLenFeature([], tf.string)\n",
        "        }\n",
        "    )\n",
        "    example = tf.io.parse_single_example(example, tfrecord_format)\n",
        "    image = decode_image(example[\"image\"])\n",
        "    if labeled:\n",
        "        label = tf.cast(example[\"target\"], tf.int32)\n",
        "        return image, label\n",
        "    return image\n",
        "\n",
        "def load_dataset(filenames, labeled=True):\n",
        "    ignore_order = tf.data.Options()\n",
        "    ignore_order.experimental_deterministic = False  # disable order, increase speed\n",
        "    dataset = tf.data.TFRecordDataset(\n",
        "        filenames\n",
        "    )  # automatically interleaves reads from multiple files\n",
        "    dataset = dataset.with_options(\n",
        "        ignore_order\n",
        "    )  # uses data as soon as it streams in, rather than in its original order\n",
        "    dataset = dataset.map(\n",
        "        partial(read_tfrecord, labeled=labeled), num_parallel_calls=AUTOTUNE\n",
        "    )\n",
        "    # returns a dataset of (image, label) pairs if labeled=True or just images if labeled=False\n",
        "    return dataset\n",
        "\n",
        "def get_dataset(filenames, labeled=True):\n",
        "    dataset = load_dataset(filenames, labeled=labeled)\n",
        "    dataset = dataset.shuffle(2048)\n",
        "    dataset = dataset.prefetch(buffer_size=AUTOTUNE)\n",
        "    dataset = dataset.batch(BATCH_SIZE, drop_remainder=True)\n",
        "    return dataset"
      ],
      "execution_count": null,
      "outputs": []
    },
    {
      "cell_type": "code",
      "metadata": {
        "trusted": true,
        "id": "7FTdjEKHm_QN"
      },
      "source": [
        "# List files\n",
        "train_files, val_files = train_test_split(tf.io.gfile.glob(GCP_DATASET + '/train_tfrecords/ld_train*.tfrec'),\n",
        "                                                           test_size=0.2,\n",
        "                                                           random_state=RANDOM_SEED)\n",
        "\n",
        "test_files = tf.io.gfile.glob(GCP_DATASET + '/test_tfrecords/ld_test*.tfrec')"
      ],
      "execution_count": null,
      "outputs": []
    },
    {
      "cell_type": "code",
      "metadata": {
        "trusted": true,
        "id": "Bw7ZezTUm_QN"
      },
      "source": [
        "# Get datasets\n",
        "train_dataset = get_dataset(train_files)\n",
        "val_dataset = get_dataset(val_files)\n",
        "test_dataset = get_dataset(test_files, labeled=False)"
      ],
      "execution_count": null,
      "outputs": []
    },
    {
      "cell_type": "code",
      "metadata": {
        "id": "VgYCrqmJTvuO"
      },
      "source": [
        "# Count images per dataset for additional HYPERPARAMETERS\r\n",
        "def count_data_items(filenames):\r\n",
        "    n = [int(re.compile(r\"-([0-9]*)\\.\").search(filename).group(1)) for filename in filenames]\r\n",
        "    return np.sum(n)\r\n",
        "\r\n",
        "NUM_TRAINING_IMAGES = count_data_items(train_files)\r\n",
        "NUM_VALIDATION_IMAGES = count_data_items(val_files)\r\n",
        "NUM_TEST_IMAGES = count_data_items(test_files)\r\n",
        "\r\n",
        "STEPS_PER_EPOCH = NUM_TRAINING_IMAGES // BATCH_SIZE\r\n",
        "VALID_STEPS = NUM_VALIDATION_IMAGES // BATCH_SIZE"
      ],
      "execution_count": null,
      "outputs": []
    },
    {
      "cell_type": "code",
      "metadata": {
        "trusted": true,
        "id": "Qdli-1rwm_QN"
      },
      "source": [
        "# Examine batch of images\n",
        "# image_batch, label_batch = next(iter(train_dataset))\n",
        "\n",
        "# def show_batch(image_batch, label_batch):\n",
        "#     plt.figure(figsize=(20, 20))\n",
        "#     for n in range(25):\n",
        "#         ax = plt.subplot(5, 5, n + 1)\n",
        "#         plt.imshow(image_batch[n])\n",
        "#         if label_batch[n] in datastore:\n",
        "#             plt.title(datastore[label_batch[n]], color='w')\n",
        "#         plt.axis(\"off\")\n",
        "\n",
        "\n",
        "# show_batch(image_batch.numpy(), label_batch.numpy())"
      ],
      "execution_count": null,
      "outputs": []
    },
    {
      "cell_type": "code",
      "metadata": {
        "trusted": true,
        "id": "kWjJI7Y2m_QO"
      },
      "source": [
        "# Callback instantiation\n",
        "lr_scheduler = ExponentialDecay(initial_learning_rate=LEARNING_RATE,\n",
        "                                decay_steps=10000,\n",
        "                                decay_rate=0.98)\n",
        "\n",
        "early_stopping = EarlyStopping(monitor='val_loss',\n",
        "                               min_delta=0.001,\n",
        "                               patience=20,\n",
        "                               verbose=1,\n",
        "                               restore_best_weights=True)"
      ],
      "execution_count": null,
      "outputs": []
    },
    {
      "cell_type": "code",
      "metadata": {
        "id": "5Zi-QWUkT2pO"
      },
      "source": [
        "# Fixes TPU error when using TF Hub models\r\n",
        "os.environ[\"TFHUB_MODEL_LOAD_FORMAT\"]=\"UNCOMPRESSED\"\r\n",
        "load_options = tf.saved_model.LoadOptions(experimental_io_device='/job:localhost')\r\n",
        "reloaded_model = hub.load(MODEL_HUB_URL, options=load_options)"
      ],
      "execution_count": null,
      "outputs": []
    },
    {
      "cell_type": "code",
      "metadata": {
        "trusted": true,
        "id": "Czcf1SF9m_QO",
        "colab": {
          "base_uri": "https://localhost:8080/"
        },
        "outputId": "5978aec6-cdc4-4d64-d46f-3c899b537798"
      },
      "source": [
        "# Create model\n",
        "def make_model():\n",
        "    print('Building model using TF Hub model:', MODEL_HUB_URL)\n",
        "    with strategy.scope():\n",
        "        model = tf.keras.Sequential([\n",
        "            tf.keras.layers.InputLayer(input_shape=[*IMG_SIZE, 3]),\n",
        "            hub.KerasLayer(MODEL_HUB_URL, trainable=False),\n",
        "            tf.keras.layers.Dense(128, activation='relu', kernel_regularizer=tf.keras.regularizers.l2(1e-4)),\n",
        "            tf.keras.layers.Dropout(0.2),\n",
        "            tf.keras.layers.Dense(64, activation='relu', kernel_regularizer=tf.keras.regularizers.l2(1e-4)),\n",
        "            tf.keras.layers.Dropout(0.2),\n",
        "            tf.keras.layers.Dense(5, activation='softmax', kernel_regularizer=tf.keras.regularizers.l2(1e-4))\n",
        "        ])\n",
        "\n",
        "        model.compile(optimizer=tf.keras.optimizers.Adam(learning_rate=lr_scheduler),\n",
        "              loss='sparse_categorical_crossentropy',\n",
        "              metrics=['sparse_categorical_accuracy'])\n",
        "        \n",
        "    return model\n",
        "\n",
        "model = make_model()\n",
        "model.summary()"
      ],
      "execution_count": null,
      "outputs": [
        {
          "output_type": "stream",
          "text": [
            "Building model using TF Hub model: https://tfhub.dev/tensorflow/efficientnet/b5/feature-vector/1\n",
            "Model: \"sequential_5\"\n",
            "_________________________________________________________________\n",
            "Layer (type)                 Output Shape              Param #   \n",
            "=================================================================\n",
            "keras_layer_5 (KerasLayer)   (None, 2048)              28513520  \n",
            "_________________________________________________________________\n",
            "dense_12 (Dense)             (None, 128)               262272    \n",
            "_________________________________________________________________\n",
            "dropout_7 (Dropout)          (None, 128)               0         \n",
            "_________________________________________________________________\n",
            "dense_13 (Dense)             (None, 64)                8256      \n",
            "_________________________________________________________________\n",
            "dropout_8 (Dropout)          (None, 64)                0         \n",
            "_________________________________________________________________\n",
            "dense_14 (Dense)             (None, 5)                 325       \n",
            "=================================================================\n",
            "Total params: 28,784,373\n",
            "Trainable params: 270,853\n",
            "Non-trainable params: 28,513,520\n",
            "_________________________________________________________________\n"
          ],
          "name": "stdout"
        }
      ]
    },
    {
      "cell_type": "code",
      "metadata": {
        "trusted": true,
        "id": "5nPo59Gpm_QP",
        "colab": {
          "base_uri": "https://localhost:8080/",
          "height": 1000
        },
        "outputId": "5fd2ebad-3ef2-46f3-bae1-36255706eaf3"
      },
      "source": [
        "# Train model\n",
        "history = model.fit(train_dataset.repeat(),\n",
        "                    steps_per_epoch=STEPS_PER_EPOCH,\n",
        "                    epochs=EPOCHS,\n",
        "                    callbacks=[early_stopping],\n",
        "                    validation_data=val_dataset,\n",
        "                    validation_steps=VALID_STEPS,\n",
        "                    class_weight=CLASS_WEIGHTS,\n",
        "                    verbose=1)"
      ],
      "execution_count": null,
      "outputs": [
        {
          "output_type": "stream",
          "text": [
            "Epoch 1/300\n",
            "125/125 [==============================] - 98s 463ms/step - loss: 1.6053 - sparse_categorical_accuracy: 0.4817 - val_loss: 0.9163 - val_sparse_categorical_accuracy: 0.6986\n",
            "Epoch 2/300\n",
            "125/125 [==============================] - 48s 386ms/step - loss: 1.1671 - sparse_categorical_accuracy: 0.6666 - val_loss: 0.8416 - val_sparse_categorical_accuracy: 0.7418\n",
            "Epoch 3/300\n",
            "125/125 [==============================] - 48s 388ms/step - loss: 1.1169 - sparse_categorical_accuracy: 0.6744 - val_loss: 0.9063 - val_sparse_categorical_accuracy: 0.7349\n",
            "Epoch 4/300\n",
            "125/125 [==============================] - 48s 387ms/step - loss: 1.0827 - sparse_categorical_accuracy: 0.7009 - val_loss: 0.7744 - val_sparse_categorical_accuracy: 0.7515\n",
            "Epoch 5/300\n",
            "125/125 [==============================] - 48s 389ms/step - loss: 1.1085 - sparse_categorical_accuracy: 0.6856 - val_loss: 0.8889 - val_sparse_categorical_accuracy: 0.7018\n",
            "Epoch 6/300\n",
            "125/125 [==============================] - 48s 389ms/step - loss: 1.0611 - sparse_categorical_accuracy: 0.6970 - val_loss: 0.9029 - val_sparse_categorical_accuracy: 0.7264\n",
            "Epoch 7/300\n",
            "125/125 [==============================] - 49s 390ms/step - loss: 1.0522 - sparse_categorical_accuracy: 0.7091 - val_loss: 0.8889 - val_sparse_categorical_accuracy: 0.7332\n",
            "Epoch 8/300\n",
            "125/125 [==============================] - 48s 385ms/step - loss: 1.0477 - sparse_categorical_accuracy: 0.7096 - val_loss: 0.8704 - val_sparse_categorical_accuracy: 0.7315\n",
            "Epoch 9/300\n",
            "125/125 [==============================] - 48s 389ms/step - loss: 1.0459 - sparse_categorical_accuracy: 0.7170 - val_loss: 0.8450 - val_sparse_categorical_accuracy: 0.7355\n",
            "Epoch 10/300\n",
            "125/125 [==============================] - 49s 393ms/step - loss: 1.0556 - sparse_categorical_accuracy: 0.7036 - val_loss: 0.8330 - val_sparse_categorical_accuracy: 0.7340\n",
            "Epoch 11/300\n",
            "125/125 [==============================] - 48s 386ms/step - loss: 1.0613 - sparse_categorical_accuracy: 0.7091 - val_loss: 0.8366 - val_sparse_categorical_accuracy: 0.7334\n",
            "Epoch 12/300\n",
            "125/125 [==============================] - 48s 389ms/step - loss: 1.0338 - sparse_categorical_accuracy: 0.7091 - val_loss: 0.7766 - val_sparse_categorical_accuracy: 0.7651\n",
            "Epoch 13/300\n",
            "125/125 [==============================] - 49s 390ms/step - loss: 1.0688 - sparse_categorical_accuracy: 0.7064 - val_loss: 0.8952 - val_sparse_categorical_accuracy: 0.7035\n",
            "Epoch 14/300\n",
            "125/125 [==============================] - 48s 387ms/step - loss: 1.0854 - sparse_categorical_accuracy: 0.7098 - val_loss: 0.8333 - val_sparse_categorical_accuracy: 0.7361\n",
            "Epoch 15/300\n",
            "125/125 [==============================] - 48s 388ms/step - loss: 1.0646 - sparse_categorical_accuracy: 0.7108 - val_loss: 0.7995 - val_sparse_categorical_accuracy: 0.7595\n",
            "Epoch 16/300\n",
            "125/125 [==============================] - 48s 388ms/step - loss: 1.0310 - sparse_categorical_accuracy: 0.7260 - val_loss: 0.7805 - val_sparse_categorical_accuracy: 0.7489\n",
            "Epoch 17/300\n",
            "125/125 [==============================] - 48s 388ms/step - loss: 1.0218 - sparse_categorical_accuracy: 0.7108 - val_loss: 0.8670 - val_sparse_categorical_accuracy: 0.7035\n",
            "Epoch 18/300\n",
            "125/125 [==============================] - 48s 386ms/step - loss: 1.0590 - sparse_categorical_accuracy: 0.7182 - val_loss: 0.8137 - val_sparse_categorical_accuracy: 0.7456\n",
            "Epoch 19/300\n",
            "125/125 [==============================] - 48s 387ms/step - loss: 1.0205 - sparse_categorical_accuracy: 0.7205 - val_loss: 0.7558 - val_sparse_categorical_accuracy: 0.7719\n",
            "Epoch 20/300\n",
            "125/125 [==============================] - 48s 386ms/step - loss: 1.0357 - sparse_categorical_accuracy: 0.7152 - val_loss: 0.9524 - val_sparse_categorical_accuracy: 0.7005\n",
            "Epoch 21/300\n",
            "125/125 [==============================] - 48s 389ms/step - loss: 1.0299 - sparse_categorical_accuracy: 0.7087 - val_loss: 0.7899 - val_sparse_categorical_accuracy: 0.7706\n",
            "Epoch 22/300\n",
            "125/125 [==============================] - 49s 390ms/step - loss: 0.9932 - sparse_categorical_accuracy: 0.7292 - val_loss: 0.8979 - val_sparse_categorical_accuracy: 0.6930\n",
            "Epoch 23/300\n",
            "125/125 [==============================] - 48s 388ms/step - loss: 1.0134 - sparse_categorical_accuracy: 0.7158 - val_loss: 1.0449 - val_sparse_categorical_accuracy: 0.6623\n",
            "Epoch 24/300\n",
            "125/125 [==============================] - 48s 389ms/step - loss: 1.0491 - sparse_categorical_accuracy: 0.7095 - val_loss: 0.8525 - val_sparse_categorical_accuracy: 0.7416\n",
            "Epoch 25/300\n",
            "125/125 [==============================] - 48s 389ms/step - loss: 1.0087 - sparse_categorical_accuracy: 0.7234 - val_loss: 0.7477 - val_sparse_categorical_accuracy: 0.7734\n",
            "Epoch 26/300\n",
            "125/125 [==============================] - 48s 389ms/step - loss: 1.0242 - sparse_categorical_accuracy: 0.7181 - val_loss: 1.0039 - val_sparse_categorical_accuracy: 0.6974\n",
            "Epoch 27/300\n",
            "125/125 [==============================] - 48s 387ms/step - loss: 1.0280 - sparse_categorical_accuracy: 0.7129 - val_loss: 0.8149 - val_sparse_categorical_accuracy: 0.7631\n",
            "Epoch 28/300\n",
            "125/125 [==============================] - 48s 390ms/step - loss: 1.0306 - sparse_categorical_accuracy: 0.7205 - val_loss: 0.8138 - val_sparse_categorical_accuracy: 0.7470\n",
            "Epoch 29/300\n",
            "125/125 [==============================] - 48s 386ms/step - loss: 1.0211 - sparse_categorical_accuracy: 0.7161 - val_loss: 0.7405 - val_sparse_categorical_accuracy: 0.7776\n",
            "Epoch 30/300\n",
            "125/125 [==============================] - 48s 388ms/step - loss: 1.0446 - sparse_categorical_accuracy: 0.7046 - val_loss: 0.9655 - val_sparse_categorical_accuracy: 0.6785\n",
            "Epoch 31/300\n",
            "125/125 [==============================] - 49s 392ms/step - loss: 1.0367 - sparse_categorical_accuracy: 0.7076 - val_loss: 0.8098 - val_sparse_categorical_accuracy: 0.7395\n",
            "Epoch 32/300\n",
            "125/125 [==============================] - 48s 387ms/step - loss: 1.0353 - sparse_categorical_accuracy: 0.7165 - val_loss: 0.8452 - val_sparse_categorical_accuracy: 0.7382\n",
            "Epoch 33/300\n",
            "125/125 [==============================] - 48s 389ms/step - loss: 0.9920 - sparse_categorical_accuracy: 0.7269 - val_loss: 0.7571 - val_sparse_categorical_accuracy: 0.7692\n",
            "Epoch 34/300\n",
            "125/125 [==============================] - 48s 387ms/step - loss: 1.0171 - sparse_categorical_accuracy: 0.7237 - val_loss: 0.7766 - val_sparse_categorical_accuracy: 0.7529\n",
            "Epoch 35/300\n",
            "125/125 [==============================] - 48s 389ms/step - loss: 1.0334 - sparse_categorical_accuracy: 0.7105 - val_loss: 0.7411 - val_sparse_categorical_accuracy: 0.7761\n",
            "Epoch 36/300\n",
            "125/125 [==============================] - 48s 388ms/step - loss: 1.0068 - sparse_categorical_accuracy: 0.7279 - val_loss: 0.7440 - val_sparse_categorical_accuracy: 0.7727\n",
            "Epoch 37/300\n",
            "125/125 [==============================] - 48s 388ms/step - loss: 0.9963 - sparse_categorical_accuracy: 0.7237 - val_loss: 0.8993 - val_sparse_categorical_accuracy: 0.7193\n",
            "Epoch 38/300\n",
            "125/125 [==============================] - 48s 386ms/step - loss: 1.0097 - sparse_categorical_accuracy: 0.7152 - val_loss: 0.8406 - val_sparse_categorical_accuracy: 0.7435\n",
            "Epoch 39/300\n",
            "125/125 [==============================] - 48s 389ms/step - loss: 0.9991 - sparse_categorical_accuracy: 0.7220 - val_loss: 0.9173 - val_sparse_categorical_accuracy: 0.6888\n",
            "Epoch 40/300\n",
            "125/125 [==============================] - 48s 389ms/step - loss: 1.0348 - sparse_categorical_accuracy: 0.7135 - val_loss: 0.9991 - val_sparse_categorical_accuracy: 0.6736\n",
            "Epoch 41/300\n",
            "125/125 [==============================] - 48s 388ms/step - loss: 1.0108 - sparse_categorical_accuracy: 0.7127 - val_loss: 0.8724 - val_sparse_categorical_accuracy: 0.7285\n",
            "Epoch 42/300\n",
            "125/125 [==============================] - 48s 387ms/step - loss: 1.0425 - sparse_categorical_accuracy: 0.7116 - val_loss: 0.8753 - val_sparse_categorical_accuracy: 0.7273\n",
            "Epoch 43/300\n",
            "125/125 [==============================] - 48s 388ms/step - loss: 1.0077 - sparse_categorical_accuracy: 0.7170 - val_loss: 0.8162 - val_sparse_categorical_accuracy: 0.7388\n",
            "Epoch 44/300\n",
            "125/125 [==============================] - 48s 388ms/step - loss: 1.0522 - sparse_categorical_accuracy: 0.6999 - val_loss: 0.8146 - val_sparse_categorical_accuracy: 0.7582\n",
            "Epoch 45/300\n",
            "125/125 [==============================] - 48s 388ms/step - loss: 1.0156 - sparse_categorical_accuracy: 0.7127 - val_loss: 0.9667 - val_sparse_categorical_accuracy: 0.6980\n",
            "Epoch 46/300\n",
            "125/125 [==============================] - 48s 389ms/step - loss: 1.0086 - sparse_categorical_accuracy: 0.7261 - val_loss: 0.7387 - val_sparse_categorical_accuracy: 0.7769\n",
            "Epoch 47/300\n",
            "125/125 [==============================] - 48s 390ms/step - loss: 0.9856 - sparse_categorical_accuracy: 0.7244 - val_loss: 0.8259 - val_sparse_categorical_accuracy: 0.7525\n",
            "Epoch 48/300\n",
            "125/125 [==============================] - 48s 387ms/step - loss: 1.0086 - sparse_categorical_accuracy: 0.7306 - val_loss: 0.8049 - val_sparse_categorical_accuracy: 0.7529\n",
            "Epoch 49/300\n",
            "125/125 [==============================] - 49s 391ms/step - loss: 1.0264 - sparse_categorical_accuracy: 0.7095 - val_loss: 0.7228 - val_sparse_categorical_accuracy: 0.7797\n",
            "Epoch 50/300\n",
            "125/125 [==============================] - 48s 387ms/step - loss: 1.0090 - sparse_categorical_accuracy: 0.7224 - val_loss: 0.8342 - val_sparse_categorical_accuracy: 0.7437\n",
            "Epoch 51/300\n",
            "125/125 [==============================] - 48s 387ms/step - loss: 0.9882 - sparse_categorical_accuracy: 0.7301 - val_loss: 0.9095 - val_sparse_categorical_accuracy: 0.7149\n",
            "Epoch 52/300\n",
            "125/125 [==============================] - 48s 390ms/step - loss: 1.0170 - sparse_categorical_accuracy: 0.7188 - val_loss: 0.9225 - val_sparse_categorical_accuracy: 0.6911\n",
            "Epoch 53/300\n",
            "125/125 [==============================] - 48s 389ms/step - loss: 1.0055 - sparse_categorical_accuracy: 0.7150 - val_loss: 0.8604 - val_sparse_categorical_accuracy: 0.7433\n",
            "Epoch 54/300\n",
            "125/125 [==============================] - 58s 466ms/step - loss: 1.0125 - sparse_categorical_accuracy: 0.7201 - val_loss: 0.8860 - val_sparse_categorical_accuracy: 0.7106\n",
            "Epoch 55/300\n",
            "125/125 [==============================] - 49s 393ms/step - loss: 1.0114 - sparse_categorical_accuracy: 0.7224 - val_loss: 0.7705 - val_sparse_categorical_accuracy: 0.7696\n",
            "Epoch 56/300\n",
            "125/125 [==============================] - 49s 390ms/step - loss: 1.0244 - sparse_categorical_accuracy: 0.7200 - val_loss: 0.9200 - val_sparse_categorical_accuracy: 0.7016\n",
            "Epoch 57/300\n",
            "125/125 [==============================] - 49s 390ms/step - loss: 1.0283 - sparse_categorical_accuracy: 0.7087 - val_loss: 0.7230 - val_sparse_categorical_accuracy: 0.7950\n",
            "Epoch 58/300\n",
            "125/125 [==============================] - 48s 389ms/step - loss: 0.9877 - sparse_categorical_accuracy: 0.7337 - val_loss: 0.8904 - val_sparse_categorical_accuracy: 0.7269\n",
            "Epoch 59/300\n",
            "125/125 [==============================] - 48s 388ms/step - loss: 1.0099 - sparse_categorical_accuracy: 0.7186 - val_loss: 0.8060 - val_sparse_categorical_accuracy: 0.7479\n",
            "Epoch 60/300\n",
            "125/125 [==============================] - 49s 392ms/step - loss: 1.0240 - sparse_categorical_accuracy: 0.7168 - val_loss: 0.7942 - val_sparse_categorical_accuracy: 0.7616\n",
            "Epoch 61/300\n",
            "125/125 [==============================] - 49s 390ms/step - loss: 1.0084 - sparse_categorical_accuracy: 0.7263 - val_loss: 0.8839 - val_sparse_categorical_accuracy: 0.7304\n",
            "Epoch 62/300\n",
            "125/125 [==============================] - 49s 392ms/step - loss: 1.0382 - sparse_categorical_accuracy: 0.7118 - val_loss: 0.7463 - val_sparse_categorical_accuracy: 0.7839\n",
            "Epoch 63/300\n",
            "125/125 [==============================] - 49s 391ms/step - loss: 1.0109 - sparse_categorical_accuracy: 0.7209 - val_loss: 0.8174 - val_sparse_categorical_accuracy: 0.7477\n",
            "Epoch 64/300\n",
            "125/125 [==============================] - 49s 391ms/step - loss: 1.0076 - sparse_categorical_accuracy: 0.7257 - val_loss: 0.8675 - val_sparse_categorical_accuracy: 0.7317\n",
            "Epoch 65/300\n",
            "125/125 [==============================] - 49s 394ms/step - loss: 1.0067 - sparse_categorical_accuracy: 0.7180 - val_loss: 0.9025 - val_sparse_categorical_accuracy: 0.7367\n",
            "Epoch 66/300\n",
            "125/125 [==============================] - 48s 389ms/step - loss: 1.0022 - sparse_categorical_accuracy: 0.7128 - val_loss: 0.9684 - val_sparse_categorical_accuracy: 0.7010\n",
            "Epoch 67/300\n",
            "125/125 [==============================] - 49s 392ms/step - loss: 1.0188 - sparse_categorical_accuracy: 0.7157 - val_loss: 0.8413 - val_sparse_categorical_accuracy: 0.7157\n",
            "Epoch 68/300\n",
            "125/125 [==============================] - 48s 389ms/step - loss: 1.0076 - sparse_categorical_accuracy: 0.7166 - val_loss: 0.7289 - val_sparse_categorical_accuracy: 0.7746\n",
            "Epoch 69/300\n",
            "125/125 [==============================] - 49s 392ms/step - loss: 1.0061 - sparse_categorical_accuracy: 0.7089 - val_loss: 0.7485 - val_sparse_categorical_accuracy: 0.7740\n",
            "Epoch 70/300\n",
            "125/125 [==============================] - 49s 392ms/step - loss: 1.0100 - sparse_categorical_accuracy: 0.7217 - val_loss: 0.7904 - val_sparse_categorical_accuracy: 0.7530\n",
            "Epoch 71/300\n",
            "125/125 [==============================] - 49s 391ms/step - loss: 0.9838 - sparse_categorical_accuracy: 0.7258 - val_loss: 0.7452 - val_sparse_categorical_accuracy: 0.7738\n",
            "Epoch 72/300\n",
            "125/125 [==============================] - 49s 393ms/step - loss: 1.0270 - sparse_categorical_accuracy: 0.7028 - val_loss: 0.8696 - val_sparse_categorical_accuracy: 0.7144\n",
            "Epoch 73/300\n",
            "125/125 [==============================] - 49s 391ms/step - loss: 0.9962 - sparse_categorical_accuracy: 0.7186 - val_loss: 0.8696 - val_sparse_categorical_accuracy: 0.7431\n",
            "Epoch 74/300\n",
            "125/125 [==============================] - 49s 393ms/step - loss: 0.9905 - sparse_categorical_accuracy: 0.7293 - val_loss: 0.8849 - val_sparse_categorical_accuracy: 0.7304\n",
            "Epoch 75/300\n",
            "125/125 [==============================] - 48s 387ms/step - loss: 0.9985 - sparse_categorical_accuracy: 0.7282 - val_loss: 0.8126 - val_sparse_categorical_accuracy: 0.7508\n",
            "Epoch 76/300\n",
            "125/125 [==============================] - 49s 393ms/step - loss: 0.9636 - sparse_categorical_accuracy: 0.7346 - val_loss: 0.9719 - val_sparse_categorical_accuracy: 0.6904\n",
            "Epoch 77/300\n",
            "125/125 [==============================] - 49s 392ms/step - loss: 0.9799 - sparse_categorical_accuracy: 0.7209 - val_loss: 0.8617 - val_sparse_categorical_accuracy: 0.7269\n",
            "Epoch 78/300\n",
            "125/125 [==============================] - 49s 396ms/step - loss: 0.9941 - sparse_categorical_accuracy: 0.7191 - val_loss: 0.7974 - val_sparse_categorical_accuracy: 0.7618\n",
            "Epoch 79/300\n",
            "125/125 [==============================] - 49s 391ms/step - loss: 0.9805 - sparse_categorical_accuracy: 0.7333 - val_loss: 0.8130 - val_sparse_categorical_accuracy: 0.7496\n",
            "Epoch 80/300\n",
            "125/125 [==============================] - 49s 394ms/step - loss: 0.9683 - sparse_categorical_accuracy: 0.7327 - val_loss: 0.9097 - val_sparse_categorical_accuracy: 0.7382\n",
            "Epoch 81/300\n",
            "125/125 [==============================] - 49s 394ms/step - loss: 0.9660 - sparse_categorical_accuracy: 0.7312 - val_loss: 0.7698 - val_sparse_categorical_accuracy: 0.7719\n",
            "Epoch 82/300\n",
            "125/125 [==============================] - 49s 391ms/step - loss: 0.9925 - sparse_categorical_accuracy: 0.7248 - val_loss: 0.8352 - val_sparse_categorical_accuracy: 0.7382\n",
            "Epoch 83/300\n",
            "125/125 [==============================] - 49s 393ms/step - loss: 0.9771 - sparse_categorical_accuracy: 0.7341 - val_loss: 0.8221 - val_sparse_categorical_accuracy: 0.7675\n",
            "Epoch 84/300\n",
            "125/125 [==============================] - ETA: 0s - loss: 0.9940 - sparse_categorical_accuracy: 0.7354"
          ],
          "name": "stdout"
        },
        {
          "output_type": "error",
          "ename": "KeyboardInterrupt",
          "evalue": "ignored",
          "traceback": [
            "\u001b[0;31m---------------------------------------------------------------------------\u001b[0m",
            "\u001b[0;31mKeyboardInterrupt\u001b[0m                         Traceback (most recent call last)",
            "\u001b[0;32m<ipython-input-41-e0c8d003edb7>\u001b[0m in \u001b[0;36m<module>\u001b[0;34m()\u001b[0m\n\u001b[1;32m      7\u001b[0m                     \u001b[0mvalidation_steps\u001b[0m\u001b[0;34m=\u001b[0m\u001b[0mVALID_STEPS\u001b[0m\u001b[0;34m,\u001b[0m\u001b[0;34m\u001b[0m\u001b[0;34m\u001b[0m\u001b[0m\n\u001b[1;32m      8\u001b[0m                     \u001b[0mclass_weight\u001b[0m\u001b[0;34m=\u001b[0m\u001b[0mCLASS_WEIGHTS\u001b[0m\u001b[0;34m,\u001b[0m\u001b[0;34m\u001b[0m\u001b[0;34m\u001b[0m\u001b[0m\n\u001b[0;32m----> 9\u001b[0;31m                     verbose=1)\n\u001b[0m",
            "\u001b[0;32m/usr/local/lib/python3.6/dist-packages/tensorflow/python/keras/engine/training.py\u001b[0m in \u001b[0;36mfit\u001b[0;34m(self, x, y, batch_size, epochs, verbose, callbacks, validation_split, validation_data, shuffle, class_weight, sample_weight, initial_epoch, steps_per_epoch, validation_steps, validation_batch_size, validation_freq, max_queue_size, workers, use_multiprocessing)\u001b[0m\n\u001b[1;32m   1139\u001b[0m               \u001b[0mworkers\u001b[0m\u001b[0;34m=\u001b[0m\u001b[0mworkers\u001b[0m\u001b[0;34m,\u001b[0m\u001b[0;34m\u001b[0m\u001b[0;34m\u001b[0m\u001b[0m\n\u001b[1;32m   1140\u001b[0m               \u001b[0muse_multiprocessing\u001b[0m\u001b[0;34m=\u001b[0m\u001b[0muse_multiprocessing\u001b[0m\u001b[0;34m,\u001b[0m\u001b[0;34m\u001b[0m\u001b[0;34m\u001b[0m\u001b[0m\n\u001b[0;32m-> 1141\u001b[0;31m               return_dict=True)\n\u001b[0m\u001b[1;32m   1142\u001b[0m           \u001b[0mval_logs\u001b[0m \u001b[0;34m=\u001b[0m \u001b[0;34m{\u001b[0m\u001b[0;34m'val_'\u001b[0m \u001b[0;34m+\u001b[0m \u001b[0mname\u001b[0m\u001b[0;34m:\u001b[0m \u001b[0mval\u001b[0m \u001b[0;32mfor\u001b[0m \u001b[0mname\u001b[0m\u001b[0;34m,\u001b[0m \u001b[0mval\u001b[0m \u001b[0;32min\u001b[0m \u001b[0mval_logs\u001b[0m\u001b[0;34m.\u001b[0m\u001b[0mitems\u001b[0m\u001b[0;34m(\u001b[0m\u001b[0;34m)\u001b[0m\u001b[0;34m}\u001b[0m\u001b[0;34m\u001b[0m\u001b[0;34m\u001b[0m\u001b[0m\n\u001b[1;32m   1143\u001b[0m           \u001b[0mepoch_logs\u001b[0m\u001b[0;34m.\u001b[0m\u001b[0mupdate\u001b[0m\u001b[0;34m(\u001b[0m\u001b[0mval_logs\u001b[0m\u001b[0;34m)\u001b[0m\u001b[0;34m\u001b[0m\u001b[0;34m\u001b[0m\u001b[0m\n",
            "\u001b[0;32m/usr/local/lib/python3.6/dist-packages/tensorflow/python/keras/engine/training.py\u001b[0m in \u001b[0;36mevaluate\u001b[0;34m(self, x, y, batch_size, verbose, sample_weight, steps, callbacks, max_queue_size, workers, use_multiprocessing, return_dict)\u001b[0m\n\u001b[1;32m   1392\u001b[0m               \u001b[0mlogs\u001b[0m \u001b[0;34m=\u001b[0m \u001b[0mtmp_logs\u001b[0m  \u001b[0;31m# No error, now safe to assign to logs.\u001b[0m\u001b[0;34m\u001b[0m\u001b[0;34m\u001b[0m\u001b[0m\n\u001b[1;32m   1393\u001b[0m               \u001b[0mend_step\u001b[0m \u001b[0;34m=\u001b[0m \u001b[0mstep\u001b[0m \u001b[0;34m+\u001b[0m \u001b[0mdata_handler\u001b[0m\u001b[0;34m.\u001b[0m\u001b[0mstep_increment\u001b[0m\u001b[0;34m\u001b[0m\u001b[0;34m\u001b[0m\u001b[0m\n\u001b[0;32m-> 1394\u001b[0;31m               \u001b[0mcallbacks\u001b[0m\u001b[0;34m.\u001b[0m\u001b[0mon_test_batch_end\u001b[0m\u001b[0;34m(\u001b[0m\u001b[0mend_step\u001b[0m\u001b[0;34m,\u001b[0m \u001b[0mlogs\u001b[0m\u001b[0;34m)\u001b[0m\u001b[0;34m\u001b[0m\u001b[0;34m\u001b[0m\u001b[0m\n\u001b[0m\u001b[1;32m   1395\u001b[0m       \u001b[0mlogs\u001b[0m \u001b[0;34m=\u001b[0m \u001b[0mtf_utils\u001b[0m\u001b[0;34m.\u001b[0m\u001b[0mto_numpy_or_python_type\u001b[0m\u001b[0;34m(\u001b[0m\u001b[0mlogs\u001b[0m\u001b[0;34m)\u001b[0m\u001b[0;34m\u001b[0m\u001b[0;34m\u001b[0m\u001b[0m\n\u001b[1;32m   1396\u001b[0m       \u001b[0mcallbacks\u001b[0m\u001b[0;34m.\u001b[0m\u001b[0mon_test_end\u001b[0m\u001b[0;34m(\u001b[0m\u001b[0mlogs\u001b[0m\u001b[0;34m=\u001b[0m\u001b[0mlogs\u001b[0m\u001b[0;34m)\u001b[0m\u001b[0;34m\u001b[0m\u001b[0;34m\u001b[0m\u001b[0m\n",
            "\u001b[0;32m/usr/local/lib/python3.6/dist-packages/tensorflow/python/keras/callbacks.py\u001b[0m in \u001b[0;36mon_test_batch_end\u001b[0;34m(self, batch, logs)\u001b[0m\n\u001b[1;32m    474\u001b[0m     \"\"\"\n\u001b[1;32m    475\u001b[0m     \u001b[0;32mif\u001b[0m \u001b[0mself\u001b[0m\u001b[0;34m.\u001b[0m\u001b[0m_should_call_test_batch_hooks\u001b[0m\u001b[0;34m:\u001b[0m\u001b[0;34m\u001b[0m\u001b[0;34m\u001b[0m\u001b[0m\n\u001b[0;32m--> 476\u001b[0;31m       \u001b[0mself\u001b[0m\u001b[0;34m.\u001b[0m\u001b[0m_call_batch_hook\u001b[0m\u001b[0;34m(\u001b[0m\u001b[0mModeKeys\u001b[0m\u001b[0;34m.\u001b[0m\u001b[0mTEST\u001b[0m\u001b[0;34m,\u001b[0m \u001b[0;34m'end'\u001b[0m\u001b[0;34m,\u001b[0m \u001b[0mbatch\u001b[0m\u001b[0;34m,\u001b[0m \u001b[0mlogs\u001b[0m\u001b[0;34m=\u001b[0m\u001b[0mlogs\u001b[0m\u001b[0;34m)\u001b[0m\u001b[0;34m\u001b[0m\u001b[0;34m\u001b[0m\u001b[0m\n\u001b[0m\u001b[1;32m    477\u001b[0m \u001b[0;34m\u001b[0m\u001b[0m\n\u001b[1;32m    478\u001b[0m   \u001b[0;32mdef\u001b[0m \u001b[0mon_predict_batch_begin\u001b[0m\u001b[0;34m(\u001b[0m\u001b[0mself\u001b[0m\u001b[0;34m,\u001b[0m \u001b[0mbatch\u001b[0m\u001b[0;34m,\u001b[0m \u001b[0mlogs\u001b[0m\u001b[0;34m=\u001b[0m\u001b[0;32mNone\u001b[0m\u001b[0;34m)\u001b[0m\u001b[0;34m:\u001b[0m\u001b[0;34m\u001b[0m\u001b[0;34m\u001b[0m\u001b[0m\n",
            "\u001b[0;32m/usr/local/lib/python3.6/dist-packages/tensorflow/python/keras/callbacks.py\u001b[0m in \u001b[0;36m_call_batch_hook\u001b[0;34m(self, mode, hook, batch, logs)\u001b[0m\n\u001b[1;32m    294\u001b[0m       \u001b[0mself\u001b[0m\u001b[0;34m.\u001b[0m\u001b[0m_call_batch_begin_hook\u001b[0m\u001b[0;34m(\u001b[0m\u001b[0mmode\u001b[0m\u001b[0;34m,\u001b[0m \u001b[0mbatch\u001b[0m\u001b[0;34m,\u001b[0m \u001b[0mlogs\u001b[0m\u001b[0;34m)\u001b[0m\u001b[0;34m\u001b[0m\u001b[0;34m\u001b[0m\u001b[0m\n\u001b[1;32m    295\u001b[0m     \u001b[0;32melif\u001b[0m \u001b[0mhook\u001b[0m \u001b[0;34m==\u001b[0m \u001b[0;34m'end'\u001b[0m\u001b[0;34m:\u001b[0m\u001b[0;34m\u001b[0m\u001b[0;34m\u001b[0m\u001b[0m\n\u001b[0;32m--> 296\u001b[0;31m       \u001b[0mself\u001b[0m\u001b[0;34m.\u001b[0m\u001b[0m_call_batch_end_hook\u001b[0m\u001b[0;34m(\u001b[0m\u001b[0mmode\u001b[0m\u001b[0;34m,\u001b[0m \u001b[0mbatch\u001b[0m\u001b[0;34m,\u001b[0m \u001b[0mlogs\u001b[0m\u001b[0;34m)\u001b[0m\u001b[0;34m\u001b[0m\u001b[0;34m\u001b[0m\u001b[0m\n\u001b[0m\u001b[1;32m    297\u001b[0m     \u001b[0;32melse\u001b[0m\u001b[0;34m:\u001b[0m\u001b[0;34m\u001b[0m\u001b[0;34m\u001b[0m\u001b[0m\n\u001b[1;32m    298\u001b[0m       \u001b[0;32mraise\u001b[0m \u001b[0mValueError\u001b[0m\u001b[0;34m(\u001b[0m\u001b[0;34m'Unrecognized hook: {}'\u001b[0m\u001b[0;34m.\u001b[0m\u001b[0mformat\u001b[0m\u001b[0;34m(\u001b[0m\u001b[0mhook\u001b[0m\u001b[0;34m)\u001b[0m\u001b[0;34m)\u001b[0m\u001b[0;34m\u001b[0m\u001b[0;34m\u001b[0m\u001b[0m\n",
            "\u001b[0;32m/usr/local/lib/python3.6/dist-packages/tensorflow/python/keras/callbacks.py\u001b[0m in \u001b[0;36m_call_batch_end_hook\u001b[0;34m(self, mode, batch, logs)\u001b[0m\n\u001b[1;32m    314\u001b[0m       \u001b[0mself\u001b[0m\u001b[0;34m.\u001b[0m\u001b[0m_batch_times\u001b[0m\u001b[0;34m.\u001b[0m\u001b[0mappend\u001b[0m\u001b[0;34m(\u001b[0m\u001b[0mbatch_time\u001b[0m\u001b[0;34m)\u001b[0m\u001b[0;34m\u001b[0m\u001b[0;34m\u001b[0m\u001b[0m\n\u001b[1;32m    315\u001b[0m \u001b[0;34m\u001b[0m\u001b[0m\n\u001b[0;32m--> 316\u001b[0;31m     \u001b[0mself\u001b[0m\u001b[0;34m.\u001b[0m\u001b[0m_call_batch_hook_helper\u001b[0m\u001b[0;34m(\u001b[0m\u001b[0mhook_name\u001b[0m\u001b[0;34m,\u001b[0m \u001b[0mbatch\u001b[0m\u001b[0;34m,\u001b[0m \u001b[0mlogs\u001b[0m\u001b[0;34m)\u001b[0m\u001b[0;34m\u001b[0m\u001b[0;34m\u001b[0m\u001b[0m\n\u001b[0m\u001b[1;32m    317\u001b[0m \u001b[0;34m\u001b[0m\u001b[0m\n\u001b[1;32m    318\u001b[0m     \u001b[0;32mif\u001b[0m \u001b[0mlen\u001b[0m\u001b[0;34m(\u001b[0m\u001b[0mself\u001b[0m\u001b[0;34m.\u001b[0m\u001b[0m_batch_times\u001b[0m\u001b[0;34m)\u001b[0m \u001b[0;34m>=\u001b[0m \u001b[0mself\u001b[0m\u001b[0;34m.\u001b[0m\u001b[0m_num_batches_for_timing_check\u001b[0m\u001b[0;34m:\u001b[0m\u001b[0;34m\u001b[0m\u001b[0;34m\u001b[0m\u001b[0m\n",
            "\u001b[0;32m/usr/local/lib/python3.6/dist-packages/tensorflow/python/keras/callbacks.py\u001b[0m in \u001b[0;36m_call_batch_hook_helper\u001b[0;34m(self, hook_name, batch, logs)\u001b[0m\n\u001b[1;32m    357\u001b[0m       \u001b[0;32melse\u001b[0m\u001b[0;34m:\u001b[0m\u001b[0;34m\u001b[0m\u001b[0;34m\u001b[0m\u001b[0m\n\u001b[1;32m    358\u001b[0m         \u001b[0;32mif\u001b[0m \u001b[0mnumpy_logs\u001b[0m \u001b[0;32mis\u001b[0m \u001b[0;32mNone\u001b[0m\u001b[0;34m:\u001b[0m  \u001b[0;31m# Only convert once.\u001b[0m\u001b[0;34m\u001b[0m\u001b[0;34m\u001b[0m\u001b[0m\n\u001b[0;32m--> 359\u001b[0;31m           \u001b[0mnumpy_logs\u001b[0m \u001b[0;34m=\u001b[0m \u001b[0mtf_utils\u001b[0m\u001b[0;34m.\u001b[0m\u001b[0mto_numpy_or_python_type\u001b[0m\u001b[0;34m(\u001b[0m\u001b[0mlogs\u001b[0m\u001b[0;34m)\u001b[0m\u001b[0;34m\u001b[0m\u001b[0;34m\u001b[0m\u001b[0m\n\u001b[0m\u001b[1;32m    360\u001b[0m         \u001b[0mhook\u001b[0m\u001b[0;34m(\u001b[0m\u001b[0mbatch\u001b[0m\u001b[0;34m,\u001b[0m \u001b[0mnumpy_logs\u001b[0m\u001b[0;34m)\u001b[0m\u001b[0;34m\u001b[0m\u001b[0;34m\u001b[0m\u001b[0m\n\u001b[1;32m    361\u001b[0m \u001b[0;34m\u001b[0m\u001b[0m\n",
            "\u001b[0;32m/usr/local/lib/python3.6/dist-packages/tensorflow/python/keras/utils/tf_utils.py\u001b[0m in \u001b[0;36mto_numpy_or_python_type\u001b[0;34m(tensors)\u001b[0m\n\u001b[1;32m    512\u001b[0m     \u001b[0;32mreturn\u001b[0m \u001b[0mt\u001b[0m  \u001b[0;31m# Don't turn ragged or sparse tensors to NumPy.\u001b[0m\u001b[0;34m\u001b[0m\u001b[0;34m\u001b[0m\u001b[0m\n\u001b[1;32m    513\u001b[0m \u001b[0;34m\u001b[0m\u001b[0m\n\u001b[0;32m--> 514\u001b[0;31m   \u001b[0;32mreturn\u001b[0m \u001b[0mnest\u001b[0m\u001b[0;34m.\u001b[0m\u001b[0mmap_structure\u001b[0m\u001b[0;34m(\u001b[0m\u001b[0m_to_single_numpy_or_python_type\u001b[0m\u001b[0;34m,\u001b[0m \u001b[0mtensors\u001b[0m\u001b[0;34m)\u001b[0m\u001b[0;34m\u001b[0m\u001b[0;34m\u001b[0m\u001b[0m\n\u001b[0m\u001b[1;32m    515\u001b[0m \u001b[0;34m\u001b[0m\u001b[0m\n\u001b[1;32m    516\u001b[0m \u001b[0;34m\u001b[0m\u001b[0m\n",
            "\u001b[0;32m/usr/local/lib/python3.6/dist-packages/tensorflow/python/util/nest.py\u001b[0m in \u001b[0;36mmap_structure\u001b[0;34m(func, *structure, **kwargs)\u001b[0m\n\u001b[1;32m    657\u001b[0m \u001b[0;34m\u001b[0m\u001b[0m\n\u001b[1;32m    658\u001b[0m   return pack_sequence_as(\n\u001b[0;32m--> 659\u001b[0;31m       \u001b[0mstructure\u001b[0m\u001b[0;34m[\u001b[0m\u001b[0;36m0\u001b[0m\u001b[0;34m]\u001b[0m\u001b[0;34m,\u001b[0m \u001b[0;34m[\u001b[0m\u001b[0mfunc\u001b[0m\u001b[0;34m(\u001b[0m\u001b[0;34m*\u001b[0m\u001b[0mx\u001b[0m\u001b[0;34m)\u001b[0m \u001b[0;32mfor\u001b[0m \u001b[0mx\u001b[0m \u001b[0;32min\u001b[0m \u001b[0mentries\u001b[0m\u001b[0;34m]\u001b[0m\u001b[0;34m,\u001b[0m\u001b[0;34m\u001b[0m\u001b[0;34m\u001b[0m\u001b[0m\n\u001b[0m\u001b[1;32m    660\u001b[0m       expand_composites=expand_composites)\n\u001b[1;32m    661\u001b[0m \u001b[0;34m\u001b[0m\u001b[0m\n",
            "\u001b[0;32m/usr/local/lib/python3.6/dist-packages/tensorflow/python/util/nest.py\u001b[0m in \u001b[0;36m<listcomp>\u001b[0;34m(.0)\u001b[0m\n\u001b[1;32m    657\u001b[0m \u001b[0;34m\u001b[0m\u001b[0m\n\u001b[1;32m    658\u001b[0m   return pack_sequence_as(\n\u001b[0;32m--> 659\u001b[0;31m       \u001b[0mstructure\u001b[0m\u001b[0;34m[\u001b[0m\u001b[0;36m0\u001b[0m\u001b[0;34m]\u001b[0m\u001b[0;34m,\u001b[0m \u001b[0;34m[\u001b[0m\u001b[0mfunc\u001b[0m\u001b[0;34m(\u001b[0m\u001b[0;34m*\u001b[0m\u001b[0mx\u001b[0m\u001b[0;34m)\u001b[0m \u001b[0;32mfor\u001b[0m \u001b[0mx\u001b[0m \u001b[0;32min\u001b[0m \u001b[0mentries\u001b[0m\u001b[0;34m]\u001b[0m\u001b[0;34m,\u001b[0m\u001b[0;34m\u001b[0m\u001b[0;34m\u001b[0m\u001b[0m\n\u001b[0m\u001b[1;32m    660\u001b[0m       expand_composites=expand_composites)\n\u001b[1;32m    661\u001b[0m \u001b[0;34m\u001b[0m\u001b[0m\n",
            "\u001b[0;32m/usr/local/lib/python3.6/dist-packages/tensorflow/python/keras/utils/tf_utils.py\u001b[0m in \u001b[0;36m_to_single_numpy_or_python_type\u001b[0;34m(t)\u001b[0m\n\u001b[1;32m    508\u001b[0m   \u001b[0;32mdef\u001b[0m \u001b[0m_to_single_numpy_or_python_type\u001b[0m\u001b[0;34m(\u001b[0m\u001b[0mt\u001b[0m\u001b[0;34m)\u001b[0m\u001b[0;34m:\u001b[0m\u001b[0;34m\u001b[0m\u001b[0;34m\u001b[0m\u001b[0m\n\u001b[1;32m    509\u001b[0m     \u001b[0;32mif\u001b[0m \u001b[0misinstance\u001b[0m\u001b[0;34m(\u001b[0m\u001b[0mt\u001b[0m\u001b[0;34m,\u001b[0m \u001b[0mops\u001b[0m\u001b[0;34m.\u001b[0m\u001b[0mTensor\u001b[0m\u001b[0;34m)\u001b[0m\u001b[0;34m:\u001b[0m\u001b[0;34m\u001b[0m\u001b[0;34m\u001b[0m\u001b[0m\n\u001b[0;32m--> 510\u001b[0;31m       \u001b[0mx\u001b[0m \u001b[0;34m=\u001b[0m \u001b[0mt\u001b[0m\u001b[0;34m.\u001b[0m\u001b[0mnumpy\u001b[0m\u001b[0;34m(\u001b[0m\u001b[0;34m)\u001b[0m\u001b[0;34m\u001b[0m\u001b[0;34m\u001b[0m\u001b[0m\n\u001b[0m\u001b[1;32m    511\u001b[0m       \u001b[0;32mreturn\u001b[0m \u001b[0mx\u001b[0m\u001b[0;34m.\u001b[0m\u001b[0mitem\u001b[0m\u001b[0;34m(\u001b[0m\u001b[0;34m)\u001b[0m \u001b[0;32mif\u001b[0m \u001b[0mnp\u001b[0m\u001b[0;34m.\u001b[0m\u001b[0mndim\u001b[0m\u001b[0;34m(\u001b[0m\u001b[0mx\u001b[0m\u001b[0;34m)\u001b[0m \u001b[0;34m==\u001b[0m \u001b[0;36m0\u001b[0m \u001b[0;32melse\u001b[0m \u001b[0mx\u001b[0m\u001b[0;34m\u001b[0m\u001b[0;34m\u001b[0m\u001b[0m\n\u001b[1;32m    512\u001b[0m     \u001b[0;32mreturn\u001b[0m \u001b[0mt\u001b[0m  \u001b[0;31m# Don't turn ragged or sparse tensors to NumPy.\u001b[0m\u001b[0;34m\u001b[0m\u001b[0;34m\u001b[0m\u001b[0m\n",
            "\u001b[0;32m/usr/local/lib/python3.6/dist-packages/tensorflow/python/framework/ops.py\u001b[0m in \u001b[0;36mnumpy\u001b[0;34m(self)\u001b[0m\n\u001b[1;32m   1069\u001b[0m     \"\"\"\n\u001b[1;32m   1070\u001b[0m     \u001b[0;31m# TODO(slebedev): Consider avoiding a copy for non-CPU or remote tensors.\u001b[0m\u001b[0;34m\u001b[0m\u001b[0;34m\u001b[0m\u001b[0;34m\u001b[0m\u001b[0m\n\u001b[0;32m-> 1071\u001b[0;31m     \u001b[0mmaybe_arr\u001b[0m \u001b[0;34m=\u001b[0m \u001b[0mself\u001b[0m\u001b[0;34m.\u001b[0m\u001b[0m_numpy\u001b[0m\u001b[0;34m(\u001b[0m\u001b[0;34m)\u001b[0m  \u001b[0;31m# pylint: disable=protected-access\u001b[0m\u001b[0;34m\u001b[0m\u001b[0;34m\u001b[0m\u001b[0m\n\u001b[0m\u001b[1;32m   1072\u001b[0m     \u001b[0;32mreturn\u001b[0m \u001b[0mmaybe_arr\u001b[0m\u001b[0;34m.\u001b[0m\u001b[0mcopy\u001b[0m\u001b[0;34m(\u001b[0m\u001b[0;34m)\u001b[0m \u001b[0;32mif\u001b[0m \u001b[0misinstance\u001b[0m\u001b[0;34m(\u001b[0m\u001b[0mmaybe_arr\u001b[0m\u001b[0;34m,\u001b[0m \u001b[0mnp\u001b[0m\u001b[0;34m.\u001b[0m\u001b[0mndarray\u001b[0m\u001b[0;34m)\u001b[0m \u001b[0;32melse\u001b[0m \u001b[0mmaybe_arr\u001b[0m\u001b[0;34m\u001b[0m\u001b[0;34m\u001b[0m\u001b[0m\n\u001b[1;32m   1073\u001b[0m \u001b[0;34m\u001b[0m\u001b[0m\n",
            "\u001b[0;32m/usr/local/lib/python3.6/dist-packages/tensorflow/python/framework/ops.py\u001b[0m in \u001b[0;36m_numpy\u001b[0;34m(self)\u001b[0m\n\u001b[1;32m   1035\u001b[0m   \u001b[0;32mdef\u001b[0m \u001b[0m_numpy\u001b[0m\u001b[0;34m(\u001b[0m\u001b[0mself\u001b[0m\u001b[0;34m)\u001b[0m\u001b[0;34m:\u001b[0m\u001b[0;34m\u001b[0m\u001b[0;34m\u001b[0m\u001b[0m\n\u001b[1;32m   1036\u001b[0m     \u001b[0;32mtry\u001b[0m\u001b[0;34m:\u001b[0m\u001b[0;34m\u001b[0m\u001b[0;34m\u001b[0m\u001b[0m\n\u001b[0;32m-> 1037\u001b[0;31m       \u001b[0;32mreturn\u001b[0m \u001b[0mself\u001b[0m\u001b[0;34m.\u001b[0m\u001b[0m_numpy_internal\u001b[0m\u001b[0;34m(\u001b[0m\u001b[0;34m)\u001b[0m\u001b[0;34m\u001b[0m\u001b[0;34m\u001b[0m\u001b[0m\n\u001b[0m\u001b[1;32m   1038\u001b[0m     \u001b[0;32mexcept\u001b[0m \u001b[0mcore\u001b[0m\u001b[0;34m.\u001b[0m\u001b[0m_NotOkStatusException\u001b[0m \u001b[0;32mas\u001b[0m \u001b[0me\u001b[0m\u001b[0;34m:\u001b[0m  \u001b[0;31m# pylint: disable=protected-access\u001b[0m\u001b[0;34m\u001b[0m\u001b[0;34m\u001b[0m\u001b[0m\n\u001b[1;32m   1039\u001b[0m       \u001b[0msix\u001b[0m\u001b[0;34m.\u001b[0m\u001b[0mraise_from\u001b[0m\u001b[0;34m(\u001b[0m\u001b[0mcore\u001b[0m\u001b[0;34m.\u001b[0m\u001b[0m_status_to_exception\u001b[0m\u001b[0;34m(\u001b[0m\u001b[0me\u001b[0m\u001b[0;34m.\u001b[0m\u001b[0mcode\u001b[0m\u001b[0;34m,\u001b[0m \u001b[0me\u001b[0m\u001b[0;34m.\u001b[0m\u001b[0mmessage\u001b[0m\u001b[0;34m)\u001b[0m\u001b[0;34m,\u001b[0m \u001b[0;32mNone\u001b[0m\u001b[0;34m)\u001b[0m  \u001b[0;31m# pylint: disable=protected-access\u001b[0m\u001b[0;34m\u001b[0m\u001b[0;34m\u001b[0m\u001b[0m\n",
            "\u001b[0;31mKeyboardInterrupt\u001b[0m: "
          ]
        }
      ]
    },
    {
      "cell_type": "code",
      "metadata": {
        "colab": {
          "base_uri": "https://localhost:8080/",
          "height": 480
        },
        "id": "lne7yfYKnMGf",
        "outputId": "0adbd800-8606-4e19-de8e-7bd3bd5a841d"
      },
      "source": [
        "# Visualize results\r\n",
        "plt.figure()\r\n",
        "plt.ylabel(\"Accuracy (training and validation)\")\r\n",
        "plt.xlabel(\"Training Steps\")\r\n",
        "plt.ylim([0,1])\r\n",
        "plt.plot(history[\"accuracy\"])\r\n",
        "plt.plot(history[\"val_accuracy\"])"
      ],
      "execution_count": null,
      "outputs": [
        {
          "output_type": "error",
          "ename": "NameError",
          "evalue": "ignored",
          "traceback": [
            "\u001b[0;31m---------------------------------------------------------------------------\u001b[0m",
            "\u001b[0;31mNameError\u001b[0m                                 Traceback (most recent call last)",
            "\u001b[0;32m<ipython-input-39-0584e3663f68>\u001b[0m in \u001b[0;36m<module>\u001b[0;34m()\u001b[0m\n\u001b[1;32m      4\u001b[0m \u001b[0mplt\u001b[0m\u001b[0;34m.\u001b[0m\u001b[0mxlabel\u001b[0m\u001b[0;34m(\u001b[0m\u001b[0;34m\"Training Steps\"\u001b[0m\u001b[0;34m)\u001b[0m\u001b[0;34m\u001b[0m\u001b[0;34m\u001b[0m\u001b[0m\n\u001b[1;32m      5\u001b[0m \u001b[0mplt\u001b[0m\u001b[0;34m.\u001b[0m\u001b[0mylim\u001b[0m\u001b[0;34m(\u001b[0m\u001b[0;34m[\u001b[0m\u001b[0;36m0\u001b[0m\u001b[0;34m,\u001b[0m\u001b[0;36m1\u001b[0m\u001b[0;34m]\u001b[0m\u001b[0;34m)\u001b[0m\u001b[0;34m\u001b[0m\u001b[0;34m\u001b[0m\u001b[0m\n\u001b[0;32m----> 6\u001b[0;31m \u001b[0mplt\u001b[0m\u001b[0;34m.\u001b[0m\u001b[0mplot\u001b[0m\u001b[0;34m(\u001b[0m\u001b[0mhistory\u001b[0m\u001b[0;34m[\u001b[0m\u001b[0;34m\"accuracy\"\u001b[0m\u001b[0;34m]\u001b[0m\u001b[0;34m)\u001b[0m\u001b[0;34m\u001b[0m\u001b[0;34m\u001b[0m\u001b[0m\n\u001b[0m\u001b[1;32m      7\u001b[0m \u001b[0mplt\u001b[0m\u001b[0;34m.\u001b[0m\u001b[0mplot\u001b[0m\u001b[0;34m(\u001b[0m\u001b[0mhistory\u001b[0m\u001b[0;34m[\u001b[0m\u001b[0;34m\"val_accuracy\"\u001b[0m\u001b[0;34m]\u001b[0m\u001b[0;34m)\u001b[0m\u001b[0;34m\u001b[0m\u001b[0;34m\u001b[0m\u001b[0m\n",
            "\u001b[0;31mNameError\u001b[0m: name 'history' is not defined"
          ]
        },
        {
          "output_type": "display_data",
          "data": {
            "image/png": "[encoded data removed]",
            "text/plain": [
              "<Figure size 432x288 with 1 Axes>"
            ]
          },
          "metadata": {
            "tags": [],
            "needs_background": "light"
          }
        }
      ]
    }
  ]
}